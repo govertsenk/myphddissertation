{
 "cells": [
  {
   "cell_type": "code",
   "execution_count": 14,
   "id": "bbbacf32",
   "metadata": {},
   "outputs": [
    {
     "name": "stdout",
     "output_type": "stream",
     "text": [
      "C:/Users/govertsen.k/Desktop/trial/actual/output/outage/2001/8\n",
      "C:/Users/govertsen.k/Desktop/trial/actual/output/outage/2001/12\n",
      "C:/Users/govertsen.k/Desktop/trial/actual/output/outage/2001/20\n"
     ]
    }
   ],
   "source": [
    "# IMPORTS \n",
    "import pandas as pd\n",
    "import numpy as np\n",
    "import shutil\n",
    "import os\n",
    "import time\n",
    "import subprocess\n",
    "import sys\n",
    "import datetime\n",
    "import matplotlib.pyplot as plt\n",
    "from os.path import exists as file_exists\n",
    "import matplotlib.dates as mdates\n",
    "import math\n",
    "import matplotlib.ticker as mtick\n",
    "\n",
    "og_wd = os.getcwd()\n",
    "\n",
    "# FILE PATH\n",
    "data_file_path = r\"C:\\Users\\govertsen.k\\Desktop\\trial\"\n",
    "data_file_path = data_file_path.replace(os.sep, '/')\n",
    "\n",
    "# CONSTANTS\n",
    "year = os.listdir(data_file_path + \"/actual/outage/\")\n",
    "\n",
    "otg_start = os.listdir(data_file_path + \"/actual/outage/\" + year[0])\n",
    "otg_start = [int(x) for x in otg_start]\n",
    "otg_start.sort()\n",
    "\n",
    "# Identify all the models\n",
    "models = os.listdir(data_file_path + \"/actual/outage/\" + year[0] + \"/\" + str(otg_start[0]))\n",
    "\n",
    "# Make new Outputs folders\n",
    "new_path = data_file_path + \"/actual/\" + \"output\"\n",
    "if not os.path.exists(new_path):\n",
    "    os.makedirs(new_path)\n",
    "new_path = data_file_path + \"/actual/\" + \"output/baseline\"\n",
    "if not os.path.exists(new_path):\n",
    "    os.makedirs(new_path)  \n",
    "new_path = data_file_path + \"/actual/\" + \"output/outage\"\n",
    "if not os.path.exists(new_path):\n",
    "    os.makedirs(new_path)\n",
    "new_path = data_file_path + \"/actual/\" + \"output/baseline/\" + year[0]\n",
    "if not os.path.exists(new_path):\n",
    "    os.makedirs(new_path) \n",
    "    new_path = data_file_path + \"/actual/\" + \"output/outage/\" + year[0]\n",
    "if not os.path.exists(new_path):\n",
    "    os.makedirs(new_path)  \n",
    "    \n",
    "for each_otg_start in otg_start:\n",
    "    new_path = data_file_path + \"/actual/output/outage/\" + year[0] + \"/\" + str(each_otg_start)\n",
    "    print(new_path)\n",
    "    if not os.path.exists(new_path):\n",
    "        os.makedirs(new_path)"
   ]
  },
  {
   "cell_type": "code",
   "execution_count": 2,
   "id": "4b8e0f69",
   "metadata": {},
   "outputs": [],
   "source": [
    "program_name = \"/ReadVarsESO.exe\"\n",
    "source = data_file_path + program_name\n",
    "    \n",
    "\n",
    "# for each_model in models:\n",
    "#     # Copy, Paste and Read Vars ESO\n",
    "#     new_path = data_file_path + \"/actual/baseline/\" + year[0] + \"/\" + each_model + \"/\"\n",
    "#     destination = new_path + program_name\n",
    "#     shutil.copyfile(source,destination)\n",
    "\n",
    "#     # change to that folder\n",
    "#     os.chdir(os.path.abspath(new_path))\n",
    "\n",
    "#     # run readvarseso\n",
    "#     subprocess.run([\"ReadVarsESO\"], shell=True)\n",
    "\n",
    "#     # Move eplusout CSV to outputs\n",
    "#     old_location = new_path + \"eplusout.csv\"\n",
    "\n",
    "#     new_location = data_file_path + \"/actual/output\" + \"/\" + year[0] + \"/\" + each_model + \".csv\"\n",
    "#     shutil.copyfile(old_location,new_location)\n",
    "\n",
    "#     # Delete ReadVarsEso.exe from the folder\n",
    "#     os.remove(destination)\n",
    "\n",
    "#     os.chdir(og_wd)\n"
   ]
  },
  {
   "cell_type": "code",
   "execution_count": 16,
   "id": "f3a8f0de",
   "metadata": {},
   "outputs": [
    {
     "ename": "KeyboardInterrupt",
     "evalue": "",
     "output_type": "error",
     "traceback": [
      "\u001b[1;31m---------------------------------------------------------------------------\u001b[0m",
      "\u001b[1;31mKeyboardInterrupt\u001b[0m                         Traceback (most recent call last)",
      "Input \u001b[1;32mIn [16]\u001b[0m, in \u001b[0;36m<cell line: 4>\u001b[1;34m()\u001b[0m\n\u001b[0;32m     15\u001b[0m os\u001b[38;5;241m.\u001b[39mchdir(os\u001b[38;5;241m.\u001b[39mpath\u001b[38;5;241m.\u001b[39mabspath(new_path))\n\u001b[0;32m     17\u001b[0m \u001b[38;5;66;03m# run readvarseso\u001b[39;00m\n\u001b[1;32m---> 18\u001b[0m \u001b[43msubprocess\u001b[49m\u001b[38;5;241;43m.\u001b[39;49m\u001b[43mrun\u001b[49m\u001b[43m(\u001b[49m\u001b[43m[\u001b[49m\u001b[38;5;124;43m\"\u001b[39;49m\u001b[38;5;124;43mReadVarsESO\u001b[39;49m\u001b[38;5;124;43m\"\u001b[39;49m\u001b[43m]\u001b[49m\u001b[43m,\u001b[49m\u001b[43m \u001b[49m\u001b[43mshell\u001b[49m\u001b[38;5;241;43m=\u001b[39;49m\u001b[38;5;28;43;01mTrue\u001b[39;49;00m\u001b[43m)\u001b[49m\n\u001b[0;32m     20\u001b[0m \u001b[38;5;66;03m# Move eplusout CSV to outputs\u001b[39;00m\n\u001b[0;32m     21\u001b[0m old_location \u001b[38;5;241m=\u001b[39m new_path \u001b[38;5;241m+\u001b[39m \u001b[38;5;124m\"\u001b[39m\u001b[38;5;124m/eplusout.csv\u001b[39m\u001b[38;5;124m\"\u001b[39m\n",
      "File \u001b[1;32m~\\Anaconda3\\lib\\subprocess.py:507\u001b[0m, in \u001b[0;36mrun\u001b[1;34m(input, capture_output, timeout, check, *popenargs, **kwargs)\u001b[0m\n\u001b[0;32m    505\u001b[0m \u001b[38;5;28;01mwith\u001b[39;00m Popen(\u001b[38;5;241m*\u001b[39mpopenargs, \u001b[38;5;241m*\u001b[39m\u001b[38;5;241m*\u001b[39mkwargs) \u001b[38;5;28;01mas\u001b[39;00m process:\n\u001b[0;32m    506\u001b[0m     \u001b[38;5;28;01mtry\u001b[39;00m:\n\u001b[1;32m--> 507\u001b[0m         stdout, stderr \u001b[38;5;241m=\u001b[39m \u001b[43mprocess\u001b[49m\u001b[38;5;241;43m.\u001b[39;49m\u001b[43mcommunicate\u001b[49m\u001b[43m(\u001b[49m\u001b[38;5;28;43minput\u001b[39;49m\u001b[43m,\u001b[49m\u001b[43m \u001b[49m\u001b[43mtimeout\u001b[49m\u001b[38;5;241;43m=\u001b[39;49m\u001b[43mtimeout\u001b[49m\u001b[43m)\u001b[49m\n\u001b[0;32m    508\u001b[0m     \u001b[38;5;28;01mexcept\u001b[39;00m TimeoutExpired \u001b[38;5;28;01mas\u001b[39;00m exc:\n\u001b[0;32m    509\u001b[0m         process\u001b[38;5;241m.\u001b[39mkill()\n",
      "File \u001b[1;32m~\\Anaconda3\\lib\\subprocess.py:1126\u001b[0m, in \u001b[0;36mPopen.communicate\u001b[1;34m(self, input, timeout)\u001b[0m\n\u001b[0;32m   1124\u001b[0m         stderr \u001b[38;5;241m=\u001b[39m \u001b[38;5;28mself\u001b[39m\u001b[38;5;241m.\u001b[39mstderr\u001b[38;5;241m.\u001b[39mread()\n\u001b[0;32m   1125\u001b[0m         \u001b[38;5;28mself\u001b[39m\u001b[38;5;241m.\u001b[39mstderr\u001b[38;5;241m.\u001b[39mclose()\n\u001b[1;32m-> 1126\u001b[0m     \u001b[38;5;28;43mself\u001b[39;49m\u001b[38;5;241;43m.\u001b[39;49m\u001b[43mwait\u001b[49m\u001b[43m(\u001b[49m\u001b[43m)\u001b[49m\n\u001b[0;32m   1127\u001b[0m \u001b[38;5;28;01melse\u001b[39;00m:\n\u001b[0;32m   1128\u001b[0m     \u001b[38;5;28;01mif\u001b[39;00m timeout \u001b[38;5;129;01mis\u001b[39;00m \u001b[38;5;129;01mnot\u001b[39;00m \u001b[38;5;28;01mNone\u001b[39;00m:\n",
      "File \u001b[1;32m~\\Anaconda3\\lib\\subprocess.py:1189\u001b[0m, in \u001b[0;36mPopen.wait\u001b[1;34m(self, timeout)\u001b[0m\n\u001b[0;32m   1187\u001b[0m     endtime \u001b[38;5;241m=\u001b[39m _time() \u001b[38;5;241m+\u001b[39m timeout\n\u001b[0;32m   1188\u001b[0m \u001b[38;5;28;01mtry\u001b[39;00m:\n\u001b[1;32m-> 1189\u001b[0m     \u001b[38;5;28;01mreturn\u001b[39;00m \u001b[38;5;28;43mself\u001b[39;49m\u001b[38;5;241;43m.\u001b[39;49m\u001b[43m_wait\u001b[49m\u001b[43m(\u001b[49m\u001b[43mtimeout\u001b[49m\u001b[38;5;241;43m=\u001b[39;49m\u001b[43mtimeout\u001b[49m\u001b[43m)\u001b[49m\n\u001b[0;32m   1190\u001b[0m \u001b[38;5;28;01mexcept\u001b[39;00m \u001b[38;5;167;01mKeyboardInterrupt\u001b[39;00m:\n\u001b[0;32m   1191\u001b[0m     \u001b[38;5;66;03m# https://bugs.python.org/issue25942\u001b[39;00m\n\u001b[0;32m   1192\u001b[0m     \u001b[38;5;66;03m# The first keyboard interrupt waits briefly for the child to\u001b[39;00m\n\u001b[0;32m   1193\u001b[0m     \u001b[38;5;66;03m# exit under the common assumption that it also received the ^C\u001b[39;00m\n\u001b[0;32m   1194\u001b[0m     \u001b[38;5;66;03m# generated SIGINT and will exit rapidly.\u001b[39;00m\n\u001b[0;32m   1195\u001b[0m     \u001b[38;5;28;01mif\u001b[39;00m timeout \u001b[38;5;129;01mis\u001b[39;00m \u001b[38;5;129;01mnot\u001b[39;00m \u001b[38;5;28;01mNone\u001b[39;00m:\n",
      "File \u001b[1;32m~\\Anaconda3\\lib\\subprocess.py:1470\u001b[0m, in \u001b[0;36mPopen._wait\u001b[1;34m(self, timeout)\u001b[0m\n\u001b[0;32m   1467\u001b[0m     timeout_millis \u001b[38;5;241m=\u001b[39m \u001b[38;5;28mint\u001b[39m(timeout \u001b[38;5;241m*\u001b[39m \u001b[38;5;241m1000\u001b[39m)\n\u001b[0;32m   1468\u001b[0m \u001b[38;5;28;01mif\u001b[39;00m \u001b[38;5;28mself\u001b[39m\u001b[38;5;241m.\u001b[39mreturncode \u001b[38;5;129;01mis\u001b[39;00m \u001b[38;5;28;01mNone\u001b[39;00m:\n\u001b[0;32m   1469\u001b[0m     \u001b[38;5;66;03m# API note: Returns immediately if timeout_millis == 0.\u001b[39;00m\n\u001b[1;32m-> 1470\u001b[0m     result \u001b[38;5;241m=\u001b[39m \u001b[43m_winapi\u001b[49m\u001b[38;5;241;43m.\u001b[39;49m\u001b[43mWaitForSingleObject\u001b[49m\u001b[43m(\u001b[49m\u001b[38;5;28;43mself\u001b[39;49m\u001b[38;5;241;43m.\u001b[39;49m\u001b[43m_handle\u001b[49m\u001b[43m,\u001b[49m\n\u001b[0;32m   1471\u001b[0m \u001b[43m                                         \u001b[49m\u001b[43mtimeout_millis\u001b[49m\u001b[43m)\u001b[49m\n\u001b[0;32m   1472\u001b[0m     \u001b[38;5;28;01mif\u001b[39;00m result \u001b[38;5;241m==\u001b[39m _winapi\u001b[38;5;241m.\u001b[39mWAIT_TIMEOUT:\n\u001b[0;32m   1473\u001b[0m         \u001b[38;5;28;01mraise\u001b[39;00m TimeoutExpired(\u001b[38;5;28mself\u001b[39m\u001b[38;5;241m.\u001b[39margs, timeout)\n",
      "\u001b[1;31mKeyboardInterrupt\u001b[0m: "
     ]
    }
   ],
   "source": [
    "program_name = \"/ReadVarsESO.exe\"\n",
    "source = data_file_path + program_name\n",
    "\n",
    "for each_otg_start in otg_start:\n",
    "    if not each_otg_start == 8:\n",
    "        for each_model in models:\n",
    "\n",
    "            # Copy, Paste and Read Vars ESO\n",
    "            new_path = data_file_path + \"/actual/outage/\" + year[0] + \"/\" + str(each_otg_start) + \"/\" + each_model\n",
    "            destination = new_path + program_name\n",
    "\n",
    "            shutil.copyfile(source,destination)\n",
    "\n",
    "            # change to that folder\n",
    "            os.chdir(os.path.abspath(new_path))\n",
    "\n",
    "            # run readvarseso\n",
    "            subprocess.run([\"ReadVarsESO\"], shell=True)\n",
    "\n",
    "            # Move eplusout CSV to outputs\n",
    "            old_location = new_path + \"/eplusout.csv\"\n",
    "            new_location = data_file_path + \"/actual/output/outage/\" + year[0] + \"/\" + str(each_otg_start) + \"/\" + each_model + \".csv\"\n",
    "            shutil.copyfile(old_location,new_location)\n",
    "\n",
    "            # Delete ReadVarsEso.exe from the folder\n",
    "            os.remove(destination)\n",
    "\n",
    "            os.chdir(og_wd)"
   ]
  },
  {
   "cell_type": "code",
   "execution_count": null,
   "id": "2888ae9f",
   "metadata": {},
   "outputs": [],
   "source": []
  }
 ],
 "metadata": {
  "kernelspec": {
   "display_name": "Python 3 (ipykernel)",
   "language": "python",
   "name": "python3"
  },
  "language_info": {
   "codemirror_mode": {
    "name": "ipython",
    "version": 3
   },
   "file_extension": ".py",
   "mimetype": "text/x-python",
   "name": "python",
   "nbconvert_exporter": "python",
   "pygments_lexer": "ipython3",
   "version": "3.9.12"
  }
 },
 "nbformat": 4,
 "nbformat_minor": 5
}
