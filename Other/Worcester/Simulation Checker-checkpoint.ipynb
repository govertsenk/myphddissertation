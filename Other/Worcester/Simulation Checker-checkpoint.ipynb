{
 "cells": [
  {
   "cell_type": "code",
   "execution_count": 1,
   "id": "45f7b08e",
   "metadata": {},
   "outputs": [
    {
     "name": "stdout",
     "output_type": "stream",
     "text": [
      "             baseline  2  4  6  8  10  12  24  48\n",
      "bldg0002642         1  1  1  1  1   1   1   1   1\n",
      "bldg0003104         1  1  1  1  1   1   1   1   1\n",
      "bldg0006733         1  1  1  1  1   1   1   1   1\n",
      "bldg0009153         1  1  1  1  1   1   1   1   1\n",
      "bldg0010160         1  1  1  1  1   1   1   1   1\n",
      "...               ... .. .. .. ..  ..  ..  ..  ..\n",
      "bldg0536627         1  1  1  1  1   1   1   1   1\n",
      "bldg0539572         1  1  1  1  1   1   1   1   1\n",
      "bldg0539770         1  1  1  1  1   1   1   1   1\n",
      "bldg0544793         1  1  1  1  1   1   1   1   1\n",
      "bldg0547838         1  1  1  1  1   1   1   1   1\n",
      "\n",
      "[315 rows x 9 columns]\n"
     ]
    }
   ],
   "source": [
    "# Imports\n",
    "import pandas as pd\n",
    "import os\n",
    "import subprocess\n",
    "import shutil\n",
    "\n",
    "## Folder paths \n",
    "og_wd = os.getcwd()\n",
    "data_file_path  =  \"C:/devel/myphddissertation/Worcester/trial\"\n",
    "data_file_path = data_file_path.replace(os.sep, '/')\n",
    "            \n",
    "# Path the ReadVarsESO.exe\n",
    "read_var_file_path = \"C:/devel/community-thermal-resilience/ReadVarsESO.exe\"\n",
    "\n",
    "study = os.listdir(data_file_path)\n",
    "\n",
    "baseline_path = data_file_path + '/baseline/'\n",
    "outage_path = data_file_path + '/outage/'\n",
    "\n",
    "# Make 'checker' data frame \n",
    "checker = pd.DataFrame()\n",
    "\n",
    "# Add building ID's as indexes\n",
    "checker.index = os.listdir(baseline_path)\n",
    "\n",
    "# Add baseline column = 1 (assuming they're all good)\n",
    "checker['baseline'] = 1\n",
    "\n",
    "# See how many outages were simulated \n",
    "outages = os.listdir(outage_path)\n",
    "\n",
    "# Sort numerically (shortest to largest)\n",
    "outages.sort(key = int)\n",
    "\n",
    "# Add outage column for each outage = 1  (assuming they're all good)\n",
    "for each_otg in outages:\n",
    "    checker[each_otg] = 1\n",
    "\n",
    "# Print\n",
    "print(checker)"
   ]
  },
  {
   "cell_type": "code",
   "execution_count": 2,
   "id": "edf4d53f",
   "metadata": {},
   "outputs": [
    {
     "name": "stdout",
     "output_type": "stream",
     "text": [
      "0 models were removed for fatal simulation errors\n"
     ]
    }
   ],
   "source": [
    "# Check Baselines for Fatal Errors\n",
    "for each_model in checker.index:\n",
    "        #print(each_outage)\n",
    "        baseline_error_file = baseline_path + each_model + \"/eplusout.err\"\n",
    "        with open(baseline_error_file) as error:\n",
    "            contents = error.read()\n",
    "            if \"Fatal Error Detected\" in contents:\n",
    "                #print(each_model + \" -- \" + each_outage + \" Not Fine\")\n",
    "                checker.loc[each_model,baseline] = 'NA'\n",
    "\n",
    "# Identify Models with Fatal Errors: \n",
    "fatals = checker.loc[(checker=='NA').any(1)].index\n",
    "print(str(len(fatals)) + ' models were removed for fatal simulation errors') \n",
    "\n",
    "# and Remove them\n",
    "checker = checker.dropna()"
   ]
  },
  {
   "cell_type": "code",
   "execution_count": 3,
   "id": "e6e66983",
   "metadata": {},
   "outputs": [
    {
     "name": "stdout",
     "output_type": "stream",
     "text": [
      "0 models were removed for fatal simulation errors\n"
     ]
    }
   ],
   "source": [
    "for each_otg in checker.columns.values:\n",
    "    if each_otg != 'baseline':\n",
    "        for each_model in checker.index:\n",
    "            #print(each_outage)\n",
    "            outage_error_file = outage_path + each_otg + \"/\" + each_model + \"/eplusout.err\"\n",
    "            with open(outage_error_file) as error:\n",
    "                contents = error.read()\n",
    "                if \"Fatal Error Detected\" in contents:\n",
    "                    print(each_model + \" -- \" + each_otg + \" Not Fine\")\n",
    "                    checker.loc[each_model,each_otg] = 'NA'\n",
    "                    \n",
    "\n",
    "# Identify Models with Fatal Errors: \n",
    "fatals = checker.loc[(checker=='NA').any(1)].index\n",
    "print(str(len(fatals)) + ' models were removed for fatal simulation errors') \n",
    "\n",
    "# # and Remove them\n",
    "checker = checker.dropna()"
   ]
  },
  {
   "cell_type": "code",
   "execution_count": 16,
   "id": "e67e5a22",
   "metadata": {},
   "outputs": [],
   "source": [
    "# Change output from ESO to CSV\n",
    "for each_study in study:\n",
    "    for each_otg in outages:\n",
    "            for each_model in checker.index:\n",
    "                if each_study == 'baseline':\n",
    "                    new_path = data_file_path + \"/\" + each_study + \"/\" + each_model\n",
    "                else:\n",
    "                    new_path = data_file_path + \"/\" + each_study + \"/\" + each_otg + \"/\" + each_model\n",
    "                \n",
    "                # Copy and PasteReadVarsESO\n",
    "                shutil.copyfile(read_var_file_path,new_path + \"/ReadVarsESO.exe\")\n",
    "                \n",
    "                # Run ReadVarsESO\n",
    "                os.chdir(os.path.abspath(new_path))\n",
    "                subprocess.run([\"ReadVarsESO\"], shell=True) \n",
    "               \n",
    "                old_name = new_path + \"/eplusout.csv\"\n",
    "                new_name = new_path + \"/\" + each_model + \"_\" + each_study + \"_eplusout.csv\"\n",
    "                            \n",
    "                # Renaming the file\n",
    "                os.rename(old_name, new_name)\n",
    "                \n",
    "                # Return to original directory\n",
    "                os.chdir(og_wd)"
   ]
  },
  {
   "cell_type": "code",
   "execution_count": null,
   "id": "7806e6f5",
   "metadata": {},
   "outputs": [],
   "source": []
  }
 ],
 "metadata": {
  "kernelspec": {
   "display_name": "Python 3 (ipykernel)",
   "language": "python",
   "name": "python3"
  },
  "language_info": {
   "codemirror_mode": {
    "name": "ipython",
    "version": 3
   },
   "file_extension": ".py",
   "mimetype": "text/x-python",
   "name": "python",
   "nbconvert_exporter": "python",
   "pygments_lexer": "ipython3",
   "version": "3.9.12"
  }
 },
 "nbformat": 4,
 "nbformat_minor": 5
}
