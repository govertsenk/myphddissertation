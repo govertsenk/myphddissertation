{
 "cells": [
  {
   "cell_type": "code",
   "execution_count": null,
   "id": "9e2cd422",
   "metadata": {},
   "outputs": [],
   "source": [
    "# Redownload all the files from the cluster\n",
    "\n",
    "#copy, paste, and run read vars eso\n",
    "\n",
    "# redownload "
   ]
  },
  {
   "cell_type": "code",
   "execution_count": 25,
   "id": "fd2a547a",
   "metadata": {},
   "outputs": [],
   "source": [
    "# Move CSV files to Sharepoint\n",
    "# IMPORTS \n",
    "import pandas as pd\n",
    "import numpy as np\n",
    "import shutil\n",
    "import os\n",
    "import time\n",
    "import subprocess\n",
    "import sys\n",
    "import datetime\n",
    "import matplotlib.pyplot as plt\n",
    "from os.path import exists as file_exists\n",
    "import matplotlib.dates as mdates\n",
    "\n",
    "# FILE PATHS\n",
    "og_wd = os.getcwd()\n",
    "data_file_path  =  str(og_wd) + \"/Outputs\"\n",
    "data_file_path = data_file_path.replace(os.sep, '/')\n",
    "\n",
    "# Output File Path\n",
    "future_data_file_path = r\"C:\\Users\\govertsen.k\\Northeastern University\\Community Resilience in Extreme Temperatures - Data\\Outputs\"\n",
    "future_data_file_path = future_data_file_path.replace(os.sep, '/')\n",
    "\n",
    "# CONSTANTS\n",
    "study = [\"baseline\",\"outage\",\"summary\"]\n",
    "\n",
    "# Identify all the models\n",
    "models = os.listdir(data_file_path + '/baseline/')\n",
    "\n",
    "# Outage \n",
    "otg_date = \"July 24\"\n",
    "otg_hour = \"12\"\n",
    "otg_lengths = os.listdir(data_file_path+ \"/outage/\")\n",
    "otg_lengths.sort(key=int)"
   ]
  },
  {
   "cell_type": "code",
   "execution_count": 26,
   "id": "15b40970",
   "metadata": {},
   "outputs": [],
   "source": [
    "# Make Folders\n",
    "for each_study in study:\n",
    "    path = future_data_file_path + \"/\" + each_study\n",
    "    if not os.path.exists(path):\n",
    "        os.makedirs(path)\n",
    "    for each_model in models:\n",
    "        if each_study == \"outage\":\n",
    "            for each_otg in otg_lengths:\n",
    "                path = future_data_file_path + \"/\" + each_study + \"/\" + str(each_otg)\n",
    "                if not os.path.exists(path):\n",
    "                    os.makedirs(path)"
   ]
  },
  {
   "cell_type": "code",
   "execution_count": 29,
   "id": "a4d45b82",
   "metadata": {},
   "outputs": [],
   "source": [
    "# Make Folders\n",
    "for each_study in study:\n",
    "    for each_model in models:\n",
    "        if each_study == \"baseline\":\n",
    "            source = data_file_path + \"/\" + each_study + \"/\" + each_model + \"/\" + each_model + \"_\" + each_study + \"_eplusout.csv\"\n",
    "            destination = future_data_file_path + \"/\" + each_study + \"/\" + each_model + \".csv\"\n",
    "            if not os.path.exists(destination):\n",
    "                shutil.copy(source, destination)\n",
    "        elif each_study == \"outage\":\n",
    "            for each_otg in otg_lengths:\n",
    "                source = data_file_path + \"/\" + each_study + \"/\" + each_otg + \"/\" + each_model + \"/\" + each_model + \"_\" + each_study + \"_\" + each_otg + \"_eplusout.csv\"\n",
    "                destination = future_data_file_path + \"/\" + each_study + \"/\" + each_otg + \"/\" + each_model + \".csv\"\n",
    "                if not os.path.exists(destination):\n",
    "                    shutil.copy(source, destination)\n",
    "            "
   ]
  },
  {
   "cell_type": "code",
   "execution_count": null,
   "id": "449910d0",
   "metadata": {},
   "outputs": [],
   "source": []
  }
 ],
 "metadata": {
  "kernelspec": {
   "display_name": "Python 3 (ipykernel)",
   "language": "python",
   "name": "python3"
  },
  "language_info": {
   "codemirror_mode": {
    "name": "ipython",
    "version": 3
   },
   "file_extension": ".py",
   "mimetype": "text/x-python",
   "name": "python",
   "nbconvert_exporter": "python",
   "pygments_lexer": "ipython3",
   "version": "3.9.12"
  }
 },
 "nbformat": 4,
 "nbformat_minor": 5
}
