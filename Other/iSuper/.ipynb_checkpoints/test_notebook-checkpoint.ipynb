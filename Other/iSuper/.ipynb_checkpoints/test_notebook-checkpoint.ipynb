{
 "cells": [
  {
   "cell_type": "code",
   "execution_count": 17,
   "id": "f14d3d36",
   "metadata": {},
   "outputs": [],
   "source": [
    "import shutil\n",
    "import pandas as pd\n",
    "import sys\n",
    "import subprocess\n",
    "import os\n",
    "import asyncio\n",
    "from concurrent.futures.thread import ThreadPoolExecutor\n",
    "import numpy as np\n",
    "import datetime"
   ]
  },
  {
   "cell_type": "code",
   "execution_count": 37,
   "id": "deb6cad8",
   "metadata": {},
   "outputs": [],
   "source": [
    "og_wd = os.getcwd()\n",
    "og_wd = str(og_wd).replace(os.sep, '/')\n",
    "data_folder = og_wd + '/Data/'\n",
    "template_osw = og_wd + \"/template.osw\"\n",
    "sce_pumas = pd.read_csv(data_file_path + \"SCE_PUMA_2010.csv\")\n",
    "md = pd.read_parquet(data_folder + \"metadata.parquet\")\n",
    "\n",
    "pumas = sce_pumas['GEOID_NREL']\n",
    "# pumas = ['G06003711']"
   ]
  },
  {
   "cell_type": "code",
   "execution_count": 38,
   "id": "78cabbb3",
   "metadata": {},
   "outputs": [],
   "source": [
    "md = md.loc[md['in.puma'].isin(pumas)]\n"
   ]
  },
  {
   "cell_type": "code",
   "execution_count": null,
   "id": "9ce7c429",
   "metadata": {},
   "outputs": [],
   "source": [
    "# download corresponding csv from website"
   ]
  },
  {
   "cell_type": "code",
   "execution_count": null,
   "id": "c70a5fb9",
   "metadata": {},
   "outputs": [],
   "source": [
    "# reformat corresponding csv to epw"
   ]
  }
 ],
 "metadata": {
  "kernelspec": {
   "display_name": "Python 3 (ipykernel)",
   "language": "python",
   "name": "python3"
  },
  "language_info": {
   "codemirror_mode": {
    "name": "ipython",
    "version": 3
   },
   "file_extension": ".py",
   "mimetype": "text/x-python",
   "name": "python",
   "nbconvert_exporter": "python",
   "pygments_lexer": "ipython3",
   "version": "3.9.12"
  }
 },
 "nbformat": 4,
 "nbformat_minor": 5
}
