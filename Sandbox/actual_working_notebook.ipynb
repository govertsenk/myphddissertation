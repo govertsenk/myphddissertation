{
 "cells": [
  {
   "cell_type": "code",
   "execution_count": 1,
   "id": "60e3c420",
   "metadata": {},
   "outputs": [],
   "source": [
    "## Import things:\n",
    "import pandas as pd \n",
    "import os\n",
    "import shutil\n",
    "import datetime \n",
    "\n",
    "## Constants \n",
    "study = [\"actual\"]\n",
    "og_wd = os.getcwd()\n",
    "data_file_path  =  str(og_wd)\n",
    "data_file_path = data_file_path.replace(os.sep, '/')\n",
    "models_path = data_file_path + '/Models/'\n",
    "schedules_path = data_file_path + '/Schedule Files/'\n",
    "original_osm = \"bldg#######.osm\"\n",
    "original_weather = \"weather.epw\"\n",
    "original_schedule_name = \"schedules.csv\"\n",
    "now = \"actual\" #datetime.datetime.now()\n"
   ]
  },
  {
   "cell_type": "code",
   "execution_count": 25,
   "id": "8404b496",
   "metadata": {},
   "outputs": [],
   "source": [
    "# Modfiy weather file name here:\n",
    "actual_weather_files = os.listdir(data_file_path + \"/Weather\")\n",
    "\n",
    "for each_file in actual_weather_files:\n",
    "    shutil.copyfile(data_file_path + \"/Weather/\" + each_file,data_file_path + \"/\" + each_file)"
   ]
  },
  {
   "cell_type": "code",
   "execution_count": 26,
   "id": "162499b3",
   "metadata": {},
   "outputs": [],
   "source": [
    "# Identify all the models\n",
    "models = []\n",
    "# Iterate directory\n",
    "for model in os.listdir(models_path):\n",
    "    # check only text files\n",
    "    if model.endswith('.osm'):\n",
    "        models.append(model)"
   ]
  },
  {
   "cell_type": "code",
   "execution_count": 27,
   "id": "6814ca11",
   "metadata": {},
   "outputs": [],
   "source": [
    "#Create new output folders for each scenario \n",
    "for each_study in study:\n",
    "    new_path = data_file_path + \"/Outputs/\" + each_study\n",
    "    if not os.path.exists(new_path):\n",
    "        os.makedirs(new_path)\n",
    "    for each_year in actual_weather_files:\n",
    "        newest_path = new_path + \"/\" + each_year[:-14]\n",
    "        if not os.path.exists(newest_path):\n",
    "            os.makedirs(newest_path)\n",
    "        for each_model in models:\n",
    "            model_path = newest_path + \"/\" + each_model[:-4]\n",
    "            if not os.path.exists(model_path):\n",
    "                os.makedirs(model_path)"
   ]
  },
  {
   "cell_type": "code",
   "execution_count": 31,
   "id": "f1709890",
   "metadata": {},
   "outputs": [],
   "source": [
    "# Start Simulating\n",
    "for each_study in study:\n",
    "    if each_study == 'actual':\n",
    "        for new_weather in actual_weather_files:\n",
    "            year = new_weather[:-14]\n",
    "            for each_model in models:\n",
    "                new_path = data_file_path + \"/Outputs/actual/\" + year + \"/\" + each_model[:-4]\n",
    "                this_schedules_path = data_file_path + \"/Outputs/baseline/\" + each_model[:-4]  + \"/\"+ each_model[:-4] + '_baseline.csv'\n",
    "\n",
    "                # Save schedule in main folder as 'schedules.csv' (IF YOU DO NOT DO THIS, IT WILL NOT RUN)\n",
    "                shutil.copyfile(this_schedules_path,original_schedule_name)\n",
    "\n",
    "                # this_schedules = each_model[:-4] + '_baseline.csv'\n",
    "                # this_schedules_path = new_path + \"/\" + this_schedules_name\n",
    "                # copy the baseline template and paste\n",
    "                shutil.copyfile(data_file_path + \"/run_all_models_baseline.osw\",data_file_path + \"/run_this_model.osw\")\n",
    "                # open the file as a readable file\n",
    "                with open(data_file_path + \"/run_this_model.osw\",'r') as file:\n",
    "                    data = file.read()\n",
    "\n",
    "                    new_osm = data_file_path  + \"/Models/\" + each_model\n",
    "\n",
    "                    #replace with new osm\n",
    "                    data = data.replace(original_osm, new_osm)\n",
    "\n",
    "                    # replace with new weather file (baseline)\n",
    "                    data = data.replace(original_weather,new_weather)\n",
    "\n",
    "                with open(data_file_path + \"/run_this_model.osw\",'w') as file:\n",
    "                    file.write(data)\n",
    "\n",
    "                # run \n",
    "                file_to_run = data_file_path + \"/run_this_model.sh\"\n",
    "                os.system(file_to_run)\n",
    "\n",
    "                #save actual osm in output folder\n",
    "                destination = new_path + \"/\" + each_model[:-4] + \"_actual.osm\"\n",
    "                shutil.copyfile(new_osm,destination)\n",
    "\n",
    "                # change output filename and save in data_folder\n",
    "                source = data_file_path + \"/run/eplusout.sql\"\n",
    "                destination = new_path + \"/eplusout.sql\"\n",
    "                shutil.copyfile(source,destination)\n",
    "\n",
    "                # change output filename and save in data_folder\n",
    "                source = data_file_path + \"/run/eplusout.eso\"\n",
    "                destination = new_path + \"/eplusout.eso\"\n",
    "                shutil.copyfile(source,destination)\n",
    "\n",
    "                # change output filename and save in data_folder\n",
    "                source = data_file_path + \"/run/eplusout.err\"\n",
    "                destination = new_path + \"/eplusout.err\"\n",
    "                shutil.copyfile(source,destination)"
   ]
  },
  {
   "cell_type": "code",
   "execution_count": null,
   "id": "6d185162",
   "metadata": {},
   "outputs": [],
   "source": []
  }
 ],
 "metadata": {
  "kernelspec": {
   "display_name": "Python 3 (ipykernel)",
   "language": "python",
   "name": "python3"
  },
  "language_info": {
   "codemirror_mode": {
    "name": "ipython",
    "version": 3
   },
   "file_extension": ".py",
   "mimetype": "text/x-python",
   "name": "python",
   "nbconvert_exporter": "python",
   "pygments_lexer": "ipython3",
   "version": "3.9.12"
  }
 },
 "nbformat": 4,
 "nbformat_minor": 5
}
