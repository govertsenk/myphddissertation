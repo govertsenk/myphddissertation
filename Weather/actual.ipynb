{
 "cells": [
  {
   "cell_type": "code",
   "execution_count": 31,
   "id": "088a8899",
   "metadata": {},
   "outputs": [],
   "source": [
    "# IMPORTS \n",
    "import pandas as pd\n",
    "import numpy as np\n",
    "import shutil\n",
    "import os\n",
    "import time\n",
    "import subprocess\n",
    "import sys\n",
    "import datetime\n",
    "import matplotlib.pyplot as plt\n",
    "# from os.path import exists as file_exists\n",
    "import matplotlib.dates as mdates\n",
    "import math\n",
    "\n",
    "# Constants\n",
    "labelfont = {'fontname':'Calibri'}\n",
    "ticksize = 10\n",
    "labelsize = 12\n",
    "subtitlesize = 14\n",
    "titlesize = 18\n",
    "y_min_t = 15\n",
    "y_max_t = 45\n",
    "\n",
    "# FILE PATHS\n",
    "data_file_path = r\"C:\\Users\\govertsen.k\\Desktop\\trial\\actual\"\n",
    "data_file_path = data_file_path.replace(os.sep, '/')\n",
    "\n",
    "# Study\n",
    "study = os.listdir(data_file_path + '/summary')\n",
    "\n",
    "# Heatwaves\n",
    "heat_waves =  ['August 10, 2001','July 04, 2002','July 07, 2010','July 20, 2013','July 02, 2018']\n",
    "heat_waves = [datetime.datetime.strptime(date, \"%B %d, %Y\").date() for date in heat_waves]\n"
   ]
  },
  {
   "cell_type": "code",
   "execution_count": 30,
   "id": "3f76b477",
   "metadata": {},
   "outputs": [
    {
     "data": {
      "text/plain": [
       "[datetime.date(2001, 8, 10),\n",
       " datetime.date(2002, 7, 4),\n",
       " datetime.date(2010, 7, 7),\n",
       " datetime.date(2013, 7, 20),\n",
       " datetime.date(2018, 7, 2)]"
      ]
     },
     "execution_count": 30,
     "metadata": {},
     "output_type": "execute_result"
    }
   ],
   "source": [
    "# for each_wave in heat_waves:\n",
    "#      = datetime.datetime.strptime(heat_waves[0], \"%B %d, %Y\")\n",
    "# date\n",
    "\n",
    "heat_wave_list\n",
    "# otg_start =  datetime.datetime.strptime(otg_date + \" \" + str(otg_hour) + ':00:00','%B %d %H:%M:%S')\n",
    "# otg_start = pd.to_datetime(otg_start)"
   ]
  },
  {
   "cell_type": "code",
   "execution_count": 4,
   "id": "1c3ea4b0",
   "metadata": {},
   "outputs": [
    {
     "data": {
      "text/plain": [
       "['2001', '2002', '2010', '2013', '2018']"
      ]
     },
     "execution_count": 4,
     "metadata": {},
     "output_type": "execute_result"
    }
   ],
   "source": [
    "for each_year in study:\n",
    "    outdoor = pd.read_csv(data_file_path + \"/summary/\" + each_year + \"/outdoor.csv\")\n",
    "    plt.plot()"
   ]
  },
  {
   "cell_type": "code",
   "execution_count": 5,
   "id": "7ef3ce45",
   "metadata": {},
   "outputs": [],
   "source": [
    "outdoor = pd.read_csv(data_file_path + \"/summary/\" + study[0] + \"/outdoor.csv\")\n"
   ]
  },
  {
   "cell_type": "code",
   "execution_count": 8,
   "id": "dba7567a",
   "metadata": {},
   "outputs": [
    {
     "data": {
      "text/plain": [
       "[<matplotlib.lines.Line2D at 0x22284ecf400>]"
      ]
     },
     "execution_count": 8,
     "metadata": {},
     "output_type": "execute_result"
    },
    {
     "data": {
      "image/png": "[encoded data removed]",
      "text/plain": [
       "<Figure size 432x288 with 1 Axes>"
      ]
     },
     "metadata": {
      "needs_background": "light"
     },
     "output_type": "display_data"
    }
   ],
   "source": [
    "plt.plot(outdoor['Date/Time'],outdoor['Outdoor Temp'])"
   ]
  },
  {
   "cell_type": "code",
   "execution_count": null,
   "id": "1dcc8af4",
   "metadata": {},
   "outputs": [],
   "source": []
  }
 ],
 "metadata": {
  "kernelspec": {
   "display_name": "Python 3 (ipykernel)",
   "language": "python",
   "name": "python3"
  },
  "language_info": {
   "codemirror_mode": {
    "name": "ipython",
    "version": 3
   },
   "file_extension": ".py",
   "mimetype": "text/x-python",
   "name": "python",
   "nbconvert_exporter": "python",
   "pygments_lexer": "ipython3",
   "version": "3.9.12"
  }
 },
 "nbformat": 4,
 "nbformat_minor": 5
}
