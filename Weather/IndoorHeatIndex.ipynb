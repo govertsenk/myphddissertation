{
 "cells": [
  {
   "cell_type": "code",
   "execution_count": 36,
   "id": "086e4da7",
   "metadata": {},
   "outputs": [
    {
     "name": "stdout",
     "output_type": "stream",
     "text": [
      "0.052084209304241985\n"
     ]
    }
   ],
   "source": [
    "# Outdoor -- Steadman\n",
    "\n",
    "# constant\n",
    "sigma = 5.6704*10**8 # W/m2·K-4\n",
    "sigma_prime = 5.6704*10**8 # W/m2·K-1\n",
    "v_10 = 2.5 # m per s \n",
    "rho = 1.177 #kg/m³\n",
    "\n",
    "\n",
    "# Basic Dimensions\n",
    "H = 1.7 # height in meters\n",
    "W = 67.0 # weight in kg\n",
    "S = 1.78 # Surface area in m^2 \n",
    "\n",
    "# Effective Radiaiton Area\n",
    "Phi_1_c = 0.79 #clothed\n",
    "Phi_1_b = 0.85 #bare\n",
    "Phi_1_s = 0.80 #severe\n",
    "\n",
    "#Siginificant Diameter\n",
    "d = 0.98 #g per cm3\n",
    "# D = 4V/S\n",
    "diameter_cm = 4*W*10**3/(d*S*10**4) # diameter in cm \n",
    "\n",
    "# Clotthing Cover \n",
    "phi_2 = 0.84 \n",
    "thickness_mm = 5 # thickness in mm \n",
    "\n",
    "# Internal Core Temperature\n",
    "temp_body = 37.0 # degrees C\n",
    "\n",
    "# Internal core vapor pressure\n",
    "pressure_body = 5.65 #kPa\n",
    "\n",
    "#Surface temperatures and vapor pressures of skin and clothing \n",
    "\n",
    "# Activity \n",
    "Q = 180.0 # W per m2 \n",
    "\n",
    "# Effective Wind Speed \n",
    "\n",
    "# Ventilation Rate \n",
    "heat_loss_fraction = .08 # check this\n",
    "Q_v = Q*heat_loss_fraction # W per m^2 \n",
    "\n",
    "# Skin resistance to heat tranfer \n",
    "R_s = 0.0387 # m2 K per W\n",
    "\n",
    "# Skin resistance to moisture transfer\n",
    "Z_s = 0.0521 #m2 kPa per W\n",
    "\n",
    "# Clothing Resistance to heat transfer\n",
    "R_f  = 0.167 # m^2 K per W cm\n",
    "\n",
    "# Clothing Resistance to moisture tranfer\n",
    "Z_f = 0.021 # kPa m2 per W cm\n",
    "moisture_ratio = 0.124 # kPa per W \n",
    "\n",
    "# Surface Radiation\n",
    "#h_r = 0.97 * Phi_1 * sigma_prime\n",
    "\n",
    "#The relationship between skin resistances\n",
    "# R_s = 0.0229 # m^2 K W-1 \n",
    "Z_s_check = 6*10**5*R_s**5\n",
    "\n",
    " print(Z_s_check)\n",
    "#Z_s = 0.0034 # m2 kPa W-1 \n",
    "\n",
    "# Heat Index = -42.379 + 2.04901523T + 10.14333127R - 0.22475541TR - 6.83783 x 10-3T2 - 5.481717 x 10-2R2 + 1.22874 x 10-3T2R + 8.5282 x 10-4TR2 - 1.99 x 10-6T2R2\n",
    "\n",
    "#T - air temperature (F)\n",
    "#R - relative humidity (percentage)"
   ]
  },
  {
   "cell_type": "code",
   "execution_count": 39,
   "id": "7f11c436",
   "metadata": {},
   "outputs": [
    {
     "name": "stdout",
     "output_type": "stream",
     "text": [
      "0.23930279296874996\n"
     ]
    }
   ],
   "source": [
    "# Indoor\n",
    "# New Activity (ASHRAE 55 sitting)\n",
    "Q = 60.0\n",
    "\n",
    "# New Ventilation rate (From Steadman Figure 2)\n",
    "Qv = Q*heat_loss_fraction\n",
    "\n",
    "# New Skin Resistance to heat transfer (Steadman)\n",
    "R_s = 0.0525 # m2 K per W\n",
    "\n",
    "# New Skin Resistance to moisutre (Steadman)\n",
    "Z_s = .29  #m2 kPa per W\n",
    "Z_s_check = 6*10**5*R_s**5\n",
    "\n",
    "print(Z_s_check)\n",
    "\n",
    "# New Clothing Resistance to Heat Transfer (Steadman)\n",
    "C_f = 4.2 # W cm/m2 K\n",
    "R_f = 1/C_f # m^2K/Wcm\n",
    "\n",
    "# New Clothing Resistance to Moisture Transfer\n",
    "Z_f_d = 0.033 # Kpa m2/W cm\n",
    "moisture_ratio = Z_f_d*C_f # kPa/K\n",
    "\n",
    "# Air speed\n",
    "v = 0.1 # m/s\n",
    "\n",
    "# Surface convection (h_c)\n",
    "# h_c == ? \n",
    "\n",
    "# Surfave resistance to heat transfer (R_a)\n",
    "#R_a = 1/(h_v + h_r)"
   ]
  },
  {
   "cell_type": "code",
   "execution_count": 34,
   "id": "c874e562",
   "metadata": {},
   "outputs": [
    {
     "name": "stdout",
     "output_type": "stream",
     "text": [
      "1.1776\n",
      "1.11476\n",
      "1.8563600000000003e-05\n",
      "1.93364e-05\n",
      "974.595296620135\n",
      "885.7159620647859\n"
     ]
    }
   ],
   "source": [
    "\n",
    "import numpy as np\n",
    "\n",
    "# Mu interpolator\n",
    "temp_air = [25.0, 30.0, 35.0, 40.0, 45.0]\n",
    "dynamic_viscosity_air = [1.849*10**-5,1.872*10**-5,1.895*10**-5,1.918*10**-5,1.941*10**-5 ]\n",
    "density_air = [1.184,1.164,1.145,1.127,1.109] #kg/m³\n",
    "conductivity_air = [0.02551, 0.02588, 0.02625,0.02662,0.0699] #W/mk\n",
    "specific_heat = [1007,1007,1007,1007,1007] # J/kg-K\n",
    "\n",
    "low_temp_air = 26.6 # C, 80 F\n",
    "high_temp_air = 43.4  #C, 110 F \n",
    "\n",
    "low_rho = np.interp(low_temp_air, temp_air,density_air) #kg/m³\n",
    "high_rho = np.interp(high_temp_air, temp_air,density_air)#kg/m³\n",
    "\n",
    "low_visc_air = np.interp(low_temp_air, temp_air,dynamic_viscosity_air)\n",
    "high_visc_air = np.interp(high_temp_air, temp_air,dynamic_viscosity_air)\n",
    "\n",
    "low_cond_air = np.interp(low_temp_air,temp_air,conductivity_air)\n",
    "high_cond_air = np.interp(high_temp_air,temp_air,conductivity_air)\n",
    "\n",
    "\n",
    "low_Re = low_rho*(D/100)*v/(low_visc_air) # kg/m³ * m * m/s / = W K/s\n",
    "high_Re = high_rho*(D/100)*v/(high_visc_air) # kg/m³ * m * m/s /  = W K/s\n",
    "\n",
    "low_cp = np.interp(low_air,temp_air,specific_heat) \n",
    "high_cp = np.interp(high_air,temp_air,specific_heat)\n",
    "\n",
    "low_pn = low_cp*low_visc_air/low_cond_air\n",
    "high_pn = high_cp*high_visc_air/high_cond_air\n",
    "\n",
    "print(low_rho)\n",
    "print(high_rho)\n",
    "\n",
    "print(low_visc_air)\n",
    "print(high_visc_air)\n",
    "\n",
    "print(low_Re)\n",
    "print(high_Re)\n"
   ]
  },
  {
   "cell_type": "code",
   "execution_count": 21,
   "id": "663a29e3",
   "metadata": {},
   "outputs": [
    {
     "name": "stdout",
     "output_type": "stream",
     "text": [
      "15.363448750286631\n"
     ]
    }
   ],
   "source": [
    "print(D)"
   ]
  },
  {
   "cell_type": "code",
   "execution_count": 30,
   "id": "93250226",
   "metadata": {},
   "outputs": [
    {
     "name": "stdout",
     "output_type": "stream",
     "text": [
      "0.025628400000000003\n"
     ]
    }
   ],
   "source": [
    "temp_air = [25.0, 30.0]\n",
    "cond_air = [0.02551, 0.02588]\n",
    "cond_air_actual = np.interp(26.6,temp_air,cond_air)\n",
    "print(cond_air_actual)\n"
   ]
  },
  {
   "cell_type": "code",
   "execution_count": 32,
   "id": "7f12ed8b",
   "metadata": {},
   "outputs": [
    {
     "name": "stdout",
     "output_type": "stream",
     "text": [
      "0.24886996781426868\n"
     ]
    }
   ],
   "source": [
    "Nu = 149.19\n",
    "hc = Nu*cond_air_actual/(D)\n",
    "print(hc)"
   ]
  },
  {
   "cell_type": "code",
   "execution_count": null,
   "id": "0d23f6a1",
   "metadata": {},
   "outputs": [],
   "source": []
  }
 ],
 "metadata": {
  "kernelspec": {
   "display_name": "Python 3 (ipykernel)",
   "language": "python",
   "name": "python3"
  },
  "language_info": {
   "codemirror_mode": {
    "name": "ipython",
    "version": 3
   },
   "file_extension": ".py",
   "mimetype": "text/x-python",
   "name": "python",
   "nbconvert_exporter": "python",
   "pygments_lexer": "ipython3",
   "version": "3.9.12"
  }
 },
 "nbformat": 4,
 "nbformat_minor": 5
}
