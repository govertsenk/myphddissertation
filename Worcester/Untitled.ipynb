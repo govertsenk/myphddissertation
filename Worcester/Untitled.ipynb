{
 "cells": [
  {
   "cell_type": "code",
   "execution_count": 9,
   "id": "bbbacf32",
   "metadata": {},
   "outputs": [],
   "source": [
    "# IMPORTS \n",
    "import pandas as pd\n",
    "import numpy as np\n",
    "import shutil\n",
    "import os\n",
    "import time\n",
    "import subprocess\n",
    "import sys\n",
    "import datetime\n",
    "import matplotlib.pyplot as plt\n",
    "from os.path import exists as file_exists\n",
    "import matplotlib.dates as mdates\n",
    "import math\n",
    "import matplotlib.ticker as mtick\n",
    "\n",
    "\n",
    "# Constants\n",
    "labelfont = {'fontname':'Calibri'}\n",
    "ticksize = 10\n",
    "labelsize = 12\n",
    "titlesize = 18\n",
    "\n",
    "# FILE PATHS\n",
    "data_file_path = r\"C:\\Users\\govertsen.k\\Northeastern University\\Community Resilience in Extreme Temperatures - Data\"\n",
    "data_file_path = data_file_path.replace(os.sep, '/')\n",
    "\n",
    "# Metadata\n",
    "metadata = pd.read_csv(data_file_path + \"/Outputs/Models_Worcester_Metadata.csv\")\n",
    "\n",
    "# Parcels \n",
    "tax_parcels = pd.read_csv(data_file_path + \"/Vulnerability Mapping/WorcesterParcels.csv\")\n",
    " "
   ]
  },
  {
   "cell_type": "code",
   "execution_count": 10,
   "id": "bc896540",
   "metadata": {},
   "outputs": [],
   "source": [
    "# Set Vintage\n",
    "tax_parcels['vintage'] = \"\"\n",
    "tax_parcels.loc[tax_parcels['AYB'] < 1940, 'vintage'] = \"<1940\"\n",
    "tax_parcels.loc[(tax_parcels['AYB'] >= 1940) & (tax_parcels['AYB'] < 1950), 'vintage'] = \"1940s\"\n",
    "tax_parcels.loc[(tax_parcels['AYB'] >= 1950) & (tax_parcels['AYB'] < 1960), 'vintage'] = \"1950s\"\n",
    "tax_parcels.loc[(tax_parcels['AYB'] >= 1960) & (tax_parcels['AYB'] < 1970), 'vintage'] = \"1960s\"\n",
    "tax_parcels.loc[(tax_parcels['AYB'] >= 1970) & (tax_parcels['AYB'] < 1980), 'vintage'] = \"1970s\"\n",
    "tax_parcels.loc[(tax_parcels['AYB'] >= 1980) & (tax_parcels['AYB'] < 1990), 'vintage'] = \"1980s\"\n",
    "tax_parcels.loc[(tax_parcels['AYB'] >= 1990) & (tax_parcels['AYB'] < 2000), 'vintage'] = \"1990s\"\n",
    "tax_parcels.loc[(tax_parcels['AYB'] >= 2000) & (tax_parcels['AYB'] < 2010), 'vintage'] = \"2000s\"\n",
    "tax_parcels.loc[(tax_parcels['AYB'] >= 2010), 'vintage'] = \"2010s\""
   ]
  },
  {
   "cell_type": "code",
   "execution_count": 11,
   "id": "dd5b9ef1",
   "metadata": {},
   "outputs": [
    {
     "data": {
      "text/plain": [
       "Text(0, 0.5, 'Percent of Parcels')"
      ]
     },
     "execution_count": 11,
     "metadata": {},
     "output_type": "execute_result"
    },
    {
     "data": {
      "image/png": "[encoded data removed]",
      "text/plain": [
       "<Figure size 432x288 with 1 Axes>"
      ]
     },
     "metadata": {
      "needs_background": "light"
     },
     "output_type": "display_data"
    }
   ],
   "source": [
    "# Plot Vintage\n",
    "ax = tax_parcels['vintage'].value_counts(normalize=True).plot(kind='bar')\n",
    "plt.xticks(horizontalalignment=\"center\", fontsize=14)\n",
    "ax.yaxis.set_major_formatter(mtick.PercentFormatter(1.0))\n",
    "plt.ylabel(\"Percent of Parcels\", fontsize=16)"
   ]
  },
  {
   "cell_type": "code",
   "execution_count": null,
   "id": "5056d242",
   "metadata": {},
   "outputs": [],
   "source": [
    "# Plot Family type\n",
    "ax = tax_parcels['Family type'].value_counts(normalize=True).plot(kind='bar')\n",
    "plt.xticks(horizontalalignment=\"center\", fontsize=14)\n",
    "ax.yaxis.set_major_formatter(mtick.PercentFormatter(1.0))\n",
    "plt.ylabel(\"Percent of Parcels\", fontsize=16)"
   ]
  }
 ],
 "metadata": {
  "kernelspec": {
   "display_name": "Python 3 (ipykernel)",
   "language": "python",
   "name": "python3"
  },
  "language_info": {
   "codemirror_mode": {
    "name": "ipython",
    "version": 3
   },
   "file_extension": ".py",
   "mimetype": "text/x-python",
   "name": "python",
   "nbconvert_exporter": "python",
   "pygments_lexer": "ipython3",
   "version": "3.9.12"
  }
 },
 "nbformat": 4,
 "nbformat_minor": 5
}
