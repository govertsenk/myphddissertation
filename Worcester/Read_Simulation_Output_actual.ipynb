{
 "cells": [
  {
   "cell_type": "code",
   "execution_count": 6,
   "id": "bbbacf32",
   "metadata": {},
   "outputs": [],
   "source": [
    "# IMPORTS \n",
    "import pandas as pd\n",
    "import numpy as np\n",
    "import shutil\n",
    "import os\n",
    "import time\n",
    "import subprocess\n",
    "import sys\n",
    "import datetime\n",
    "import matplotlib.pyplot as plt\n",
    "from os.path import exists as file_exists\n",
    "import matplotlib.dates as mdates\n",
    "import math\n",
    "import matplotlib.ticker as mtick\n",
    "\n",
    "og_wd = os.getcwd()\n",
    "\n",
    "# FILE PATH\n",
    "data_file_path = r\"C:\\Users\\govertsen.k\\Desktop\\trial\"\n",
    "data_file_path = data_file_path.replace(os.sep, '/')\n",
    "\n",
    "# CONSTANTS\n",
    "study = os.listdir(data_file_path + \"/actual/baseline/\")\n",
    "\n",
    "# Identify all the models\n",
    "models = os.listdir(data_file_path + \"/actual/baseline/\" + study[0])\n",
    "\n",
    "# Make new Outputs folders\n",
    "new_path = data_file_path + \"/actual/\" + \"output\"\n",
    "if not os.path.exists(new_path):\n",
    "    os.makedirs(new_path)\n",
    "                      \n",
    "for each_study in study:\n",
    "    new_path = data_file_path + \"/actual/\" + \"output\" + \"/\" + each_study \n",
    "    if not os.path.exists(new_path):\n",
    "        os.makedirs(new_path)\n"
   ]
  },
  {
   "cell_type": "code",
   "execution_count": 7,
   "id": "4b8e0f69",
   "metadata": {},
   "outputs": [],
   "source": [
    "program_name = \"/ReadVarsESO.exe\"\n",
    "source = data_file_path + program_name\n",
    "    \n",
    "for each_study in study:\n",
    "    for each_model in models:\n",
    "        # Copy, Paste and Read Vars ESO\n",
    "        new_path = data_file_path + \"/actual/baseline/\" + each_study + \"/\" + each_model + \"/\"\n",
    "        destination = new_path + program_name\n",
    "        shutil.copyfile(source,destination)\n",
    "\n",
    "        # change to that folder\n",
    "        os.chdir(os.path.abspath(new_path))\n",
    "\n",
    "        # run readvarseso\n",
    "        subprocess.run([\"ReadVarsESO\"], shell=True)\n",
    "\n",
    "        # Move eplusout CSV to outputs\n",
    "        old_location = new_path + \"eplusout.csv\"\n",
    "\n",
    "        new_location = data_file_path + \"/actual/output\" + \"/\" + each_study + \"/\" + each_model + \".csv\"\n",
    "        shutil.copyfile(old_location,new_location)\n",
    "\n",
    "        # Delete ReadVarsEso.exe from the folder\n",
    "        os.remove(destination)\n",
    "\n",
    "        os.chdir(og_wd)\n"
   ]
  },
  {
   "cell_type": "code",
   "execution_count": null,
   "id": "f3a8f0de",
   "metadata": {},
   "outputs": [],
   "source": []
  }
 ],
 "metadata": {
  "kernelspec": {
   "display_name": "Python 3 (ipykernel)",
   "language": "python",
   "name": "python3"
  },
  "language_info": {
   "codemirror_mode": {
    "name": "ipython",
    "version": 3
   },
   "file_extension": ".py",
   "mimetype": "text/x-python",
   "name": "python",
   "nbconvert_exporter": "python",
   "pygments_lexer": "ipython3",
   "version": "3.9.12"
  }
 },
 "nbformat": 4,
 "nbformat_minor": 5
}
