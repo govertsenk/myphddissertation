{
 "cells": [
  {
   "cell_type": "code",
   "execution_count": 1,
   "id": "f4cc233d",
   "metadata": {},
   "outputs": [],
   "source": [
    "# IMPORTS \n",
    "import pandas as pd\n",
    "import numpy as np\n",
    "import shutil\n",
    "import os\n",
    "import time\n",
    "import subprocess\n",
    "import sys\n",
    "import datetime\n",
    "import matplotlib.pyplot as plt\n",
    "from os.path import exists as file_exists\n",
    "import matplotlib.dates as mdates"
   ]
  },
  {
   "cell_type": "code",
   "execution_count": 3,
   "id": "be752775",
   "metadata": {},
   "outputs": [
    {
     "data": {
      "text/plain": [
       "'C:/Users/govertsen.k/Desktop/trial/typical'"
      ]
     },
     "execution_count": 3,
     "metadata": {},
     "output_type": "execute_result"
    }
   ],
   "source": [
    "# FILE PATHS\n",
    "baseline_file_path = r\"C:\\Users\\govertsen.k\\Desktop\\trial\\Concept\"\n",
    "baseline_file_path = baseline_file_path.replace(os.sep, '/')\n",
    "baseline_file_path\n",
    "\n",
    "# Output File Path\n",
    "outage_file_path = r\"C:\\Users\\govertsen.k\\Desktop\\trial\\typical\"\n",
    "outage_file_path = outage_file_path.replace(os.sep, '/')\n",
    "outage_file_path"
   ]
  },
  {
   "cell_type": "code",
   "execution_count": 5,
   "id": "956e1536",
   "metadata": {},
   "outputs": [],
   "source": [
    "# CONSTANTS\n",
    "study = [\"baseline\",\"outage\"]\n",
    "\n",
    "# Identify all the models\n",
    "models = [os.path.splitext(filename)[0] for filename in os.listdir(baseline_file_path + '/baseline/')]"
   ]
  },
  {
   "cell_type": "code",
   "execution_count": 7,
   "id": "ea9c0309",
   "metadata": {},
   "outputs": [
    {
     "data": {
      "text/plain": [
       "['2']"
      ]
     },
     "execution_count": 7,
     "metadata": {},
     "output_type": "execute_result"
    }
   ],
   "source": [
    "# Outage \n",
    "otg_date = \"July 24\"\n",
    "otg_hour = \"12\"\n",
    "otg_lengths = os.listdir(outage_file_path + \"/outage/\")\n",
    "otg_lengths.sort(key=int)\n",
    "otg_lengths"
   ]
  },
  {
   "cell_type": "code",
   "execution_count": 8,
   "id": "4ef28943",
   "metadata": {},
   "outputs": [],
   "source": [
    "# Make new summary folders\n",
    "new_path = outage_file_path + \"/\" + \"summary\"\n",
    "if not os.path.exists(new_path):\n",
    "    os.makedirs(new_path)"
   ]
  },
  {
   "cell_type": "code",
   "execution_count": 6,
   "id": "a22f216f",
   "metadata": {},
   "outputs": [],
   "source": [
    "sample_dates = [['07/24 00:00:00'],['07/26 23:00:00']]\n",
    "index = ['start','end']\n",
    "columns = ['Date/Time']\n",
    "sample = pd.DataFrame(sample_dates,index,columns)\n",
    "sample['Date/Time']= pd.to_datetime(sample['Date/Time'], format = '%m/%d %H:%M:%S')\n",
    "   \n",
    "# Save Outdoor Data\n",
    "outdoor = pd.DataFrame()\n",
    "data = pd.read_csv(baseline_file_path + '/baseline/' + models[0] + '.csv')\n",
    "data = data.loc[data['LIVING ZONE:Zone Air Temperature [C](Hourly)'].notnull()]\n",
    "outdoor['Date/Time'] = data['Date/Time']\n",
    "outdoor['Outdoor Temp'] = data['LIVING ZONE:Zone Outdoor Air Drybulb Temperature [C](Hourly)']\n",
    "\n",
    "# Change '24:00:00' to \"00:00:00\", set datetime, add one day to midnight values, reset index, and format\n",
    "outdoor['Date/Time'] = outdoor['Date/Time'].str.strip()\n",
    "outdoor['Date/Time'] = outdoor['Date/Time'].str.replace('24:00:00','00:00:00')\n",
    "outdoor['Date/Time'] = pd.to_datetime(outdoor['Date/Time'],format = '%m/%d  %H:%M:%S')\n",
    "outdoor.loc[outdoor['Date/Time'].dt.hour == 0,'Date/Time'] = outdoor.loc[outdoor['Date/Time'].dt.hour == 0]['Date/Time'] + np.timedelta64(1,'D')\n",
    "outdoor = outdoor.reset_index(drop=True)\n",
    "\n",
    "# Trim down just to sample dates\n",
    "outdoor = outdoor.loc[(outdoor['Date/Time'] >= sample['Date/Time'][0]) & (outdoor['Date/Time'] <= sample['Date/Time'][1])]\n",
    "outdoor = outdoor.reset_index(drop=True)\n",
    "    \n",
    "outdoor.to_csv(outage_file_path + \"/summary/outdoor.csv\",index=False)"
   ]
  },
  {
   "cell_type": "code",
   "execution_count": 7,
   "id": "36ba4421",
   "metadata": {},
   "outputs": [],
   "source": [
    "# BASELINES\n",
    "# - Temperature\n",
    "baseline_temperature = pd.DataFrame(columns = models)\n",
    "# - Electricity\n",
    "baseline_electricity =pd.DataFrame(columns = models)\n",
    "# - Gas \n",
    "baseline_gas = pd.DataFrame(columns = models)\n",
    "\n",
    "\n",
    "for each_model in models:\n",
    "    ## Baseline\n",
    "    # Create empty dataframe\n",
    "    baseline = pd.DataFrame()\n",
    "\n",
    "    # Read the baseline output file\n",
    "    data = pd.read_csv(baseline_file_path + '/baseline/' + each_model + '.csv')\n",
    "    data = data.loc[data['LIVING ZONE:Zone Air Temperature [C](Hourly)'].notnull()]\n",
    "    baseline['Date/Time'] = data['Date/Time']\n",
    "    baseline['Outdoor Temp'] = data['LIVING ZONE:Zone Outdoor Air Drybulb Temperature [C](Hourly)']\n",
    "    baseline['Indoor Temp'] = data['LIVING ZONE:Zone Air Temperature [C](Hourly)']\n",
    "    baseline['Electricity'] = data['Electricity:Facility [J](Hourly)']\n",
    "    if 'NaturalGas:Facility [J](TimeStep) ' in data:\n",
    "        baseline['Gas'] = data['NaturalGas:Facility [J](TimeStep) ']\n",
    "\n",
    "    # Change '24:00:00' to \"00:00:00\", set datetime, add one day to midnight values, reset index, and format\n",
    "    baseline['Date/Time'] = baseline['Date/Time'].str.strip()\n",
    "    baseline['Date/Time'] = baseline['Date/Time'].str.replace('24:00:00','00:00:00')\n",
    "    baseline['Date/Time'] = pd.to_datetime(baseline['Date/Time'],format = '%m/%d  %H:%M:%S')\n",
    "    baseline.loc[baseline['Date/Time'].dt.hour == 0,'Date/Time'] = baseline.loc[baseline['Date/Time'].dt.hour == 0]['Date/Time'] + np.timedelta64(1,'D')\n",
    "\n",
    "#     for eachIndex in baseline.index:\n",
    "#         if baseline['Date/Time'][eachIndex].hour == 0:\n",
    "#             #baseline['Date/Time'][eachIndex] = np.datetime64(baseline['Date/Time'][eachIndex]) + np.timedelta64(1,'D')\n",
    "#             baseline.loc[baseline['Date/Time'], eachIndex] = np.datetime64(baseline['Date/Time'][eachIndex]) + np.timedelta64(1,'D')\n",
    "#     baseline['Date/Time'] = pd.to_datetime(baseline['Date/Time'],format = '%m/%d  %H:%M:%S')\n",
    "    baseline = baseline.reset_index(drop=True)\n",
    "\n",
    "    # Trim down just to sample dates\n",
    "    baseline = baseline.loc[(baseline['Date/Time'] >= sample['Date/Time'][0]) & (baseline['Date/Time'] <= sample['Date/Time'][1])]\n",
    "    baseline = baseline.reset_index(drop=True)\n",
    "    \n",
    "\n",
    "    # Transfer to consilidated list \n",
    "    baseline_temperature[each_model] = baseline[\"Indoor Temp\"]\n",
    "    baseline_electricity[each_model] = baseline[\"Electricity\"]\n",
    "    if 'Gas' in baseline:\n",
    "        baseline_gas[each_model] = baseline[\"Gas\"]\n",
    "        \n",
    "# Save as CSV\n",
    "baseline_temperature = baseline_temperature.set_index(baseline['Date/Time'])\n",
    "baseline_electricity = baseline_electricity.set_index(baseline['Date/Time'])\n",
    "baseline_gas = baseline_gas.set_index(baseline['Date/Time'])\n",
    "baseline_temperature.to_csv(outage_file_path + \"/summary/baseline_temperature.csv\",index=True)\n",
    "baseline_electricity.to_csv(outage_file_path + \"/summary/baseline_electricity.csv\",index=True)\n",
    "baseline_gas.to_csv(outage_file_path + \"/summary/baseline_gas.csv\",index=True)\n",
    "# baseline = baseline.reset_index(drop=True)\n",
    "# baseline_temperature"
   ]
  },
  {
   "cell_type": "code",
   "execution_count": 8,
   "id": "177a5a8d",
   "metadata": {},
   "outputs": [],
   "source": [
    "for each_otg in otg_lengths:\n",
    "    # each_otg = otg_lengths[0]\n",
    "    # OUTAGE\n",
    "    # - Temperature\n",
    "    outage_temperature = pd.DataFrame(columns = models)\n",
    "    # - Temperature Difference\n",
    "    outage_temp_diff = pd.DataFrame(columns = models)\n",
    "    # - Electricity\n",
    "    outage_electricity = pd.DataFrame(columns = models)\n",
    "    # - Gas\n",
    "    outage_gas = pd.DataFrame(columns = models)\n",
    "\n",
    "    for each_model in models: \n",
    "\n",
    "        ## Outage\n",
    "        # Create empty dataframe\n",
    "        outage = pd.DataFrame()\n",
    "\n",
    "        data = pd.read_csv(outage_file_path + '/outage/' + each_otg + \"/\" + each_model + '.csv')\n",
    "        data = data.loc[data['LIVING ZONE:Zone Air Temperature [C](Hourly)'].notnull()]\n",
    "        outage['Date/Time'] = data['Date/Time']\n",
    "        outage['Outdoor Temp'] = data['LIVING ZONE:Zone Outdoor Air Drybulb Temperature [C](Hourly)']\n",
    "        outage['Indoor Temp'] = data['LIVING ZONE:Zone Air Temperature [C](Hourly)']\n",
    "        outage['Electricity'] = data['Electricity:Facility [J](Hourly)']\n",
    "        if 'NaturalGas:Facility [J](TimeStep) ' in data:\n",
    "            outage['Gas'] = data['NaturalGas:Facility [J](TimeStep) ']\n",
    "\n",
    "        outage['Date/Time'] = outage['Date/Time'].str.strip()\n",
    "        outage['Date/Time'] = outage['Date/Time'].str.replace('24:00:00','00:00:00')\n",
    "        outage['Date/Time'] = pd.to_datetime(outage['Date/Time'],format = '%m/%d  %H:%M:%S')\n",
    "\n",
    "        outage.loc[outage['Date/Time'].dt.hour == 0,'Date/Time'] = outage.loc[outage['Date/Time'].dt.hour == 0]['Date/Time'] + np.timedelta64(1,'D')\n",
    "\n",
    "        #         for eachIndex in outage.index:\n",
    "        #             if outage['Date/Time'][eachIndex].hour == 0:\n",
    "        #                 outage['Date/Time'][eachIndex] = np.datetime64(outage['Date/Time'][eachIndex]) + np.timedelta64(1,'D')\n",
    "\n",
    "        outage=outage.reset_index(drop=True)\n",
    "\n",
    "        #     # Reduce to outage date\n",
    "        outage = outage.loc[(outage['Date/Time'] >= sample['Date/Time'][0]) & (outage['Date/Time'] <= sample['Date/Time'][1])]\n",
    "        outage = outage.reset_index(drop=True)\n",
    "\n",
    "        outage_temperature[each_model] = outage['Indoor Temp']\n",
    "        outage_electricity[each_model] = outage[\"Electricity\"]\n",
    "\n",
    "        if 'Gas' in outage.columns:\n",
    "            outage_gas[each_model] = outage[\"Gas\"]\n",
    "        outage = outage.set_index(outage['Date/Time'])\n",
    "\n",
    "\n",
    "    outage_temperature = outage_temperature.set_index(outage['Date/Time'])\n",
    "    outage_electricity = outage_electricity.set_index(outage['Date/Time'])\n",
    "    outage_gas =  outage_gas.set_index(outage['Date/Time'])\n",
    "\n",
    "    outage_temperature.to_csv(outage_file_path + \"/summary/outage_temperature_\"+ each_otg + \"_hr.csv\",index=True)\n",
    "    outage_electricity.to_csv(outage_file_path + \"/summary/outage_electricity_\" + each_otg + \"_hr.csv\",index=True)\n",
    "    outage_gas.to_csv(outage_file_path + \"/summary/outage_gas_\"+ each_otg +\"_hr.csv\",index=True)"
   ]
  },
  {
   "cell_type": "code",
   "execution_count": 9,
   "id": "6e904eea",
   "metadata": {},
   "outputs": [],
   "source": [
    "for each_otg in otg_lengths:\n",
    "    for each_model in models: \n",
    "         outage_temp_diff[each_model] = baseline_temperature[each_model] - outage_temperature[each_model]\n",
    "#     outage_temp_diff =  outage_temp_diff.set_index(outage['Date/Time'])\n",
    "    outage_temp_diff.to_csv(outage_file_path + \"/summary/outage_temp_diff_\" + each_otg + \"_hr.csv\",index=True)    \n"
   ]
  }
 ],
 "metadata": {
  "kernelspec": {
   "display_name": "Python 3 (ipykernel)",
   "language": "python",
   "name": "python3"
  },
  "language_info": {
   "codemirror_mode": {
    "name": "ipython",
    "version": 3
   },
   "file_extension": ".py",
   "mimetype": "text/x-python",
   "name": "python",
   "nbconvert_exporter": "python",
   "pygments_lexer": "ipython3",
   "version": "3.9.12"
  }
 },
 "nbformat": 4,
 "nbformat_minor": 5
}
